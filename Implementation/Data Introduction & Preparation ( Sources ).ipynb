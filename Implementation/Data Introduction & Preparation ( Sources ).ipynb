{
 "cells": [
  {
   "cell_type": "markdown",
   "metadata": {},
   "source": [
    "**Data -1**"
   ]
  },
  {
   "cell_type": "code",
   "execution_count": 1,
   "metadata": {
    "ExecuteTime": {
     "end_time": "2020-11-06T07:42:42.153927Z",
     "start_time": "2020-11-06T07:42:42.135933Z"
    }
   },
   "outputs": [],
   "source": [
    "#Articles\n",
    "art_dict = dict({\n",
    "'business' : r\"C:\\Users\\Akhil Sanker\\Desktop\\seminar__\\Implementation\\Data_training\\BBC News Summary\\News Articles\\business\"\n",
    ",'ent' : r\"C:\\Users\\Akhil Sanker\\Desktop\\seminar__\\Implementation\\Data_training\\BBC News Summary\\News Articles\\entertainment\"\n",
    ",'pol' : r\"C:\\Users\\Akhil Sanker\\Desktop\\seminar__\\Implementation\\Data_training\\BBC News Summary\\News Articles\\politics\"\n",
    ",'sport' : r\"C:\\Users\\Akhil Sanker\\Desktop\\seminar__\\Implementation\\Data_training\\BBC News Summary\\News Articles\\sport\"\n",
    ",'tech' : r\"C:\\Users\\Akhil Sanker\\Desktop\\seminar__\\Implementation\\Data_training\\BBC News Summary\\News Articles\\tech\"})\n",
    "\n",
    "#Sumamries\n",
    "sum_dict = dict({'business_summ' : r\"C:\\Users\\Akhil Sanker\\Desktop\\seminar__\\Implementation\\Data_training\\BBC News Summary\\Summaries\\business\"\n",
    ",'ent_summ' : r\"C:\\Users\\Akhil Sanker\\Desktop\\seminar__\\Implementation\\Data_training\\BBC News Summary\\Summaries\\entertainment\"\n",
    ",'pol_summ' :r\"C:\\Users\\Akhil Sanker\\Desktop\\seminar__\\Implementation\\Data_training\\BBC News Summary\\Summaries\\politics\"\n",
    ",'sport_summ' : r\"C:\\Users\\Akhil Sanker\\Desktop\\seminar__\\Implementation\\Data_training\\BBC News Summary\\Summaries\\sport\"\n",
    ",'tech_summ' : r\"C:\\Users\\Akhil Sanker\\Desktop\\seminar__\\Implementation\\Data_training\\BBC News Summary\\Summaries\\tech\"}\n",
    ")"
   ]
  },
  {
   "cell_type": "code",
   "execution_count": 2,
   "metadata": {
    "ExecuteTime": {
     "end_time": "2020-11-06T07:42:42.771569Z",
     "start_time": "2020-11-06T07:42:42.765570Z"
    }
   },
   "outputs": [],
   "source": [
    "art_ = list(art_dict.keys())\n",
    "sum_ = list(sum_dict.keys())"
   ]
  },
  {
   "cell_type": "code",
   "execution_count": 3,
   "metadata": {
    "ExecuteTime": {
     "end_time": "2020-11-06T07:42:44.152457Z",
     "start_time": "2020-11-06T07:42:43.235463Z"
    }
   },
   "outputs": [],
   "source": [
    "import os\n",
    "import pandas as pd\n",
    "import numpy as np"
   ]
  },
  {
   "cell_type": "code",
   "execution_count": 4,
   "metadata": {
    "ExecuteTime": {
     "end_time": "2020-11-06T07:42:45.210458Z",
     "start_time": "2020-11-06T07:42:44.156458Z"
    }
   },
   "outputs": [
    {
     "name": "stdout",
     "output_type": "stream",
     "text": [
      "business\n",
      "ent\n",
      "pol\n",
      "sport\n",
      "tech\n",
      "business_summ\n",
      "ent_summ\n",
      "pol_summ\n",
      "sport_summ\n",
      "tech_summ\n"
     ]
    }
   ],
   "source": [
    "art_data = []\n",
    "for key in art_:\n",
    "    print(key)\n",
    "    file_list = os.listdir(art_dict[key])\n",
    "    for file in file_list:\n",
    "        #print(file)\n",
    "        f1 = open(art_dict[key]+\"\\\\\"+file,\"r\")\n",
    "        art_data.append(f1.readlines())\n",
    "sum_data = []\n",
    "for key in sum_:\n",
    "    print(key)\n",
    "    file_list = os.listdir(sum_dict[key])\n",
    "    for file in file_list:\n",
    "        #print(file)\n",
    "        f1 = open(sum_dict[key]+\"\\\\\"+file,\"r\")\n",
    "        sum_data.append(f1.readlines())"
   ]
  },
  {
   "cell_type": "code",
   "execution_count": 5,
   "metadata": {
    "ExecuteTime": {
     "end_time": "2020-11-06T07:42:45.258460Z",
     "start_time": "2020-11-06T07:42:45.214458Z"
    }
   },
   "outputs": [],
   "source": [
    "tad = []\n",
    "for i in art_data:\n",
    "    tad.append(' '.join(sent for sent in i))"
   ]
  },
  {
   "cell_type": "code",
   "execution_count": 6,
   "metadata": {
    "ExecuteTime": {
     "end_time": "2020-11-06T07:42:46.135041Z",
     "start_time": "2020-11-06T07:42:46.119004Z"
    }
   },
   "outputs": [],
   "source": [
    "sad = []\n",
    "for i in sum_data:\n",
    "    sad.append(i[0])"
   ]
  },
  {
   "cell_type": "code",
   "execution_count": 7,
   "metadata": {
    "ExecuteTime": {
     "end_time": "2020-11-06T07:42:46.636481Z",
     "start_time": "2020-11-06T07:42:46.613480Z"
    }
   },
   "outputs": [],
   "source": [
    "len(art_data),len(sum_data)\n",
    "D1_df = pd.DataFrame()\n",
    "D1_df['Text'] = tad\n",
    "D1_df['Summary'] = sad"
   ]
  },
  {
   "cell_type": "code",
   "execution_count": 8,
   "metadata": {
    "ExecuteTime": {
     "end_time": "2020-11-06T07:42:47.270365Z",
     "start_time": "2020-11-06T07:42:47.241361Z"
    }
   },
   "outputs": [
    {
     "data": {
      "text/html": [
       "<div>\n",
       "<style scoped>\n",
       "    .dataframe tbody tr th:only-of-type {\n",
       "        vertical-align: middle;\n",
       "    }\n",
       "\n",
       "    .dataframe tbody tr th {\n",
       "        vertical-align: top;\n",
       "    }\n",
       "\n",
       "    .dataframe thead th {\n",
       "        text-align: right;\n",
       "    }\n",
       "</style>\n",
       "<table border=\"1\" class=\"dataframe\">\n",
       "  <thead>\n",
       "    <tr style=\"text-align: right;\">\n",
       "      <th></th>\n",
       "      <th>Text</th>\n",
       "      <th>Summary</th>\n",
       "    </tr>\n",
       "  </thead>\n",
       "  <tbody>\n",
       "    <tr>\n",
       "      <th>0</th>\n",
       "      <td>Ad sales boost Time Warner profit\\n \\n Quarter...</td>\n",
       "      <td>TimeWarner said fourth quarter sales rose 2% t...</td>\n",
       "    </tr>\n",
       "    <tr>\n",
       "      <th>1</th>\n",
       "      <td>Dollar gains on Greenspan speech\\n \\n The doll...</td>\n",
       "      <td>The dollar has hit its highest level against t...</td>\n",
       "    </tr>\n",
       "    <tr>\n",
       "      <th>2</th>\n",
       "      <td>Yukos unit buyer faces loan claim\\n \\n The own...</td>\n",
       "      <td>Yukos' owner Menatep Group says it will ask Ro...</td>\n",
       "    </tr>\n",
       "    <tr>\n",
       "      <th>3</th>\n",
       "      <td>High fuel prices hit BA's profits\\n \\n British...</td>\n",
       "      <td>Rod Eddington, BA's chief executive, said the ...</td>\n",
       "    </tr>\n",
       "    <tr>\n",
       "      <th>4</th>\n",
       "      <td>Pernod takeover talk lifts Domecq\\n \\n Shares ...</td>\n",
       "      <td>Pernod has reduced the debt it took on to fund...</td>\n",
       "    </tr>\n",
       "    <tr>\n",
       "      <th>...</th>\n",
       "      <td>...</td>\n",
       "      <td>...</td>\n",
       "    </tr>\n",
       "    <tr>\n",
       "      <th>2220</th>\n",
       "      <td>BT program to beat dialler scams\\n \\n BT is in...</td>\n",
       "      <td>BT is introducing two initiatives to help beat...</td>\n",
       "    </tr>\n",
       "    <tr>\n",
       "      <th>2221</th>\n",
       "      <td>Spam e-mails tempt net shoppers\\n \\n Computer ...</td>\n",
       "      <td>A third of them read unsolicited junk e-mail a...</td>\n",
       "    </tr>\n",
       "    <tr>\n",
       "      <th>2222</th>\n",
       "      <td>Be careful how you code\\n \\n A new European di...</td>\n",
       "      <td>This goes to the heart of the European project...</td>\n",
       "    </tr>\n",
       "    <tr>\n",
       "      <th>2223</th>\n",
       "      <td>US cyber security chief resigns\\n \\n The man m...</td>\n",
       "      <td>Amit Yoran was director of the National Cyber ...</td>\n",
       "    </tr>\n",
       "    <tr>\n",
       "      <th>2224</th>\n",
       "      <td>Losing yourself in online gaming\\n \\n Online r...</td>\n",
       "      <td>He says that in the world of online gaming suc...</td>\n",
       "    </tr>\n",
       "  </tbody>\n",
       "</table>\n",
       "<p>2225 rows × 2 columns</p>\n",
       "</div>"
      ],
      "text/plain": [
       "                                                   Text  \\\n",
       "0     Ad sales boost Time Warner profit\\n \\n Quarter...   \n",
       "1     Dollar gains on Greenspan speech\\n \\n The doll...   \n",
       "2     Yukos unit buyer faces loan claim\\n \\n The own...   \n",
       "3     High fuel prices hit BA's profits\\n \\n British...   \n",
       "4     Pernod takeover talk lifts Domecq\\n \\n Shares ...   \n",
       "...                                                 ...   \n",
       "2220  BT program to beat dialler scams\\n \\n BT is in...   \n",
       "2221  Spam e-mails tempt net shoppers\\n \\n Computer ...   \n",
       "2222  Be careful how you code\\n \\n A new European di...   \n",
       "2223  US cyber security chief resigns\\n \\n The man m...   \n",
       "2224  Losing yourself in online gaming\\n \\n Online r...   \n",
       "\n",
       "                                                Summary  \n",
       "0     TimeWarner said fourth quarter sales rose 2% t...  \n",
       "1     The dollar has hit its highest level against t...  \n",
       "2     Yukos' owner Menatep Group says it will ask Ro...  \n",
       "3     Rod Eddington, BA's chief executive, said the ...  \n",
       "4     Pernod has reduced the debt it took on to fund...  \n",
       "...                                                 ...  \n",
       "2220  BT is introducing two initiatives to help beat...  \n",
       "2221  A third of them read unsolicited junk e-mail a...  \n",
       "2222  This goes to the heart of the European project...  \n",
       "2223  Amit Yoran was director of the National Cyber ...  \n",
       "2224  He says that in the world of online gaming suc...  \n",
       "\n",
       "[2225 rows x 2 columns]"
      ]
     },
     "execution_count": 8,
     "metadata": {},
     "output_type": "execute_result"
    }
   ],
   "source": [
    "#D1_df"
   ]
  },
  {
   "cell_type": "markdown",
   "metadata": {},
   "source": [
    " "
   ]
  },
  {
   "cell_type": "markdown",
   "metadata": {},
   "source": [
    " "
   ]
  },
  {
   "cell_type": "markdown",
   "metadata": {},
   "source": [
    " "
   ]
  },
  {
   "cell_type": "markdown",
   "metadata": {},
   "source": [
    "**Data -2**"
   ]
  },
  {
   "cell_type": "code",
   "execution_count": 9,
   "metadata": {
    "ExecuteTime": {
     "end_time": "2020-11-06T07:43:11.115521Z",
     "start_time": "2020-11-06T07:43:07.868516Z"
    }
   },
   "outputs": [],
   "source": [
    "t_df1 = pd.read_csv(r\"C:\\Users\\Akhil Sanker\\Desktop\\seminar__\\Implementation\\Data_training\\news_summary.csv\",encoding='latin-1')\n",
    "t_df2 = pd.read_csv(r\"C:\\Users\\Akhil Sanker\\Desktop\\seminar__\\Implementation\\Data_training\\news_summary_more.csv\",encoding='latin-1')"
   ]
  },
  {
   "cell_type": "code",
   "execution_count": 10,
   "metadata": {
    "ExecuteTime": {
     "end_time": "2020-11-06T07:43:11.165515Z",
     "start_time": "2020-11-06T07:43:11.125516Z"
    }
   },
   "outputs": [],
   "source": [
    "D2_df = pd.DataFrame()"
   ]
  },
  {
   "cell_type": "code",
   "execution_count": 11,
   "metadata": {
    "ExecuteTime": {
     "end_time": "2020-11-06T07:43:11.258526Z",
     "start_time": "2020-11-06T07:43:11.185516Z"
    }
   },
   "outputs": [],
   "source": [
    "D2_df['Text'] = t_df1['ctext'].tolist()\n",
    "D2_df['Summary'] = t_df1['text'].tolist()"
   ]
  },
  {
   "cell_type": "code",
   "execution_count": 12,
   "metadata": {
    "ExecuteTime": {
     "end_time": "2020-11-06T07:43:11.623520Z",
     "start_time": "2020-11-06T07:43:11.268582Z"
    }
   },
   "outputs": [],
   "source": [
    "tm = pd.DataFrame()\n",
    "\n",
    "tm['Text'] = t_df2['text'].tolist()\n",
    "tm['Summary'] = t_df2['headlines'].tolist()"
   ]
  },
  {
   "cell_type": "code",
   "execution_count": 13,
   "metadata": {
    "ExecuteTime": {
     "end_time": "2020-11-06T07:43:15.132972Z",
     "start_time": "2020-11-06T07:43:15.076925Z"
    }
   },
   "outputs": [],
   "source": [
    "D2_df = pd.concat([D2_df,tm])"
   ]
  },
  {
   "cell_type": "code",
   "execution_count": 14,
   "metadata": {
    "ExecuteTime": {
     "end_time": "2020-11-06T07:43:16.277498Z",
     "start_time": "2020-11-06T07:43:16.224441Z"
    }
   },
   "outputs": [
    {
     "data": {
      "text/html": [
       "<div>\n",
       "<style scoped>\n",
       "    .dataframe tbody tr th:only-of-type {\n",
       "        vertical-align: middle;\n",
       "    }\n",
       "\n",
       "    .dataframe tbody tr th {\n",
       "        vertical-align: top;\n",
       "    }\n",
       "\n",
       "    .dataframe thead th {\n",
       "        text-align: right;\n",
       "    }\n",
       "</style>\n",
       "<table border=\"1\" class=\"dataframe\">\n",
       "  <thead>\n",
       "    <tr style=\"text-align: right;\">\n",
       "      <th></th>\n",
       "      <th>Text</th>\n",
       "      <th>Summary</th>\n",
       "    </tr>\n",
       "  </thead>\n",
       "  <tbody>\n",
       "    <tr>\n",
       "      <th>0</th>\n",
       "      <td>The Daman and Diu administration on Wednesday ...</td>\n",
       "      <td>The Administration of Union Territory Daman an...</td>\n",
       "    </tr>\n",
       "    <tr>\n",
       "      <th>1</th>\n",
       "      <td>From her special numbers to TV?appearances, Bo...</td>\n",
       "      <td>Malaika Arora slammed an Instagram user who tr...</td>\n",
       "    </tr>\n",
       "    <tr>\n",
       "      <th>2</th>\n",
       "      <td>The Indira Gandhi Institute of Medical Science...</td>\n",
       "      <td>The Indira Gandhi Institute of Medical Science...</td>\n",
       "    </tr>\n",
       "    <tr>\n",
       "      <th>3</th>\n",
       "      <td>Lashkar-e-Taiba's Kashmir commander Abu Dujana...</td>\n",
       "      <td>Lashkar-e-Taiba's Kashmir commander Abu Dujana...</td>\n",
       "    </tr>\n",
       "    <tr>\n",
       "      <th>4</th>\n",
       "      <td>Hotels in Mumbai and other Indian cities are t...</td>\n",
       "      <td>Hotels in Maharashtra will train their staff t...</td>\n",
       "    </tr>\n",
       "    <tr>\n",
       "      <th>...</th>\n",
       "      <td>...</td>\n",
       "      <td>...</td>\n",
       "    </tr>\n",
       "    <tr>\n",
       "      <th>98396</th>\n",
       "      <td>A CRPF jawan was on Tuesday axed to death with...</td>\n",
       "      <td>CRPF jawan axed to death by Maoists in Chhatti...</td>\n",
       "    </tr>\n",
       "    <tr>\n",
       "      <th>98397</th>\n",
       "      <td>'Uff Yeh', the first song from the Sonakshi Si...</td>\n",
       "      <td>First song from Sonakshi Sinha's 'Noor' titled...</td>\n",
       "    </tr>\n",
       "    <tr>\n",
       "      <th>98398</th>\n",
       "      <td>According to reports, a new version of the 199...</td>\n",
       "      <td>'The Matrix' film to get a reboot: Reports</td>\n",
       "    </tr>\n",
       "    <tr>\n",
       "      <th>98399</th>\n",
       "      <td>A new music video shows rapper Snoop Dogg aimi...</td>\n",
       "      <td>Snoop Dogg aims gun at clown dressed as Trump ...</td>\n",
       "    </tr>\n",
       "    <tr>\n",
       "      <th>98400</th>\n",
       "      <td>Madhesi Morcha, an alliance of seven political...</td>\n",
       "      <td>Madhesi Morcha withdraws support to Nepalese g...</td>\n",
       "    </tr>\n",
       "  </tbody>\n",
       "</table>\n",
       "<p>102915 rows × 2 columns</p>\n",
       "</div>"
      ],
      "text/plain": [
       "                                                    Text  \\\n",
       "0      The Daman and Diu administration on Wednesday ...   \n",
       "1      From her special numbers to TV?appearances, Bo...   \n",
       "2      The Indira Gandhi Institute of Medical Science...   \n",
       "3      Lashkar-e-Taiba's Kashmir commander Abu Dujana...   \n",
       "4      Hotels in Mumbai and other Indian cities are t...   \n",
       "...                                                  ...   \n",
       "98396  A CRPF jawan was on Tuesday axed to death with...   \n",
       "98397  'Uff Yeh', the first song from the Sonakshi Si...   \n",
       "98398  According to reports, a new version of the 199...   \n",
       "98399  A new music video shows rapper Snoop Dogg aimi...   \n",
       "98400  Madhesi Morcha, an alliance of seven political...   \n",
       "\n",
       "                                                 Summary  \n",
       "0      The Administration of Union Territory Daman an...  \n",
       "1      Malaika Arora slammed an Instagram user who tr...  \n",
       "2      The Indira Gandhi Institute of Medical Science...  \n",
       "3      Lashkar-e-Taiba's Kashmir commander Abu Dujana...  \n",
       "4      Hotels in Maharashtra will train their staff t...  \n",
       "...                                                  ...  \n",
       "98396  CRPF jawan axed to death by Maoists in Chhatti...  \n",
       "98397  First song from Sonakshi Sinha's 'Noor' titled...  \n",
       "98398         'The Matrix' film to get a reboot: Reports  \n",
       "98399  Snoop Dogg aims gun at clown dressed as Trump ...  \n",
       "98400  Madhesi Morcha withdraws support to Nepalese g...  \n",
       "\n",
       "[102915 rows x 2 columns]"
      ]
     },
     "execution_count": 14,
     "metadata": {},
     "output_type": "execute_result"
    }
   ],
   "source": [
    "#D2_df"
   ]
  },
  {
   "cell_type": "code",
   "execution_count": 15,
   "metadata": {
    "ExecuteTime": {
     "end_time": "2020-11-06T07:43:17.726436Z",
     "start_time": "2020-11-06T07:43:17.691453Z"
    }
   },
   "outputs": [],
   "source": [
    "Final_df = pd.concat([D1_df,D2_df])"
   ]
  },
  {
   "cell_type": "code",
   "execution_count": 17,
   "metadata": {
    "ExecuteTime": {
     "end_time": "2020-11-06T07:43:41.203447Z",
     "start_time": "2020-11-06T07:43:41.151447Z"
    }
   },
   "outputs": [
    {
     "data": {
      "text/html": [
       "<div>\n",
       "<style scoped>\n",
       "    .dataframe tbody tr th:only-of-type {\n",
       "        vertical-align: middle;\n",
       "    }\n",
       "\n",
       "    .dataframe tbody tr th {\n",
       "        vertical-align: top;\n",
       "    }\n",
       "\n",
       "    .dataframe thead th {\n",
       "        text-align: right;\n",
       "    }\n",
       "</style>\n",
       "<table border=\"1\" class=\"dataframe\">\n",
       "  <thead>\n",
       "    <tr style=\"text-align: right;\">\n",
       "      <th></th>\n",
       "      <th>Text</th>\n",
       "      <th>Summary</th>\n",
       "    </tr>\n",
       "  </thead>\n",
       "  <tbody>\n",
       "    <tr>\n",
       "      <th>0</th>\n",
       "      <td>Ad sales boost Time Warner profit\\n \\n Quarter...</td>\n",
       "      <td>TimeWarner said fourth quarter sales rose 2% t...</td>\n",
       "    </tr>\n",
       "    <tr>\n",
       "      <th>1</th>\n",
       "      <td>Dollar gains on Greenspan speech\\n \\n The doll...</td>\n",
       "      <td>The dollar has hit its highest level against t...</td>\n",
       "    </tr>\n",
       "    <tr>\n",
       "      <th>2</th>\n",
       "      <td>Yukos unit buyer faces loan claim\\n \\n The own...</td>\n",
       "      <td>Yukos' owner Menatep Group says it will ask Ro...</td>\n",
       "    </tr>\n",
       "    <tr>\n",
       "      <th>3</th>\n",
       "      <td>High fuel prices hit BA's profits\\n \\n British...</td>\n",
       "      <td>Rod Eddington, BA's chief executive, said the ...</td>\n",
       "    </tr>\n",
       "    <tr>\n",
       "      <th>4</th>\n",
       "      <td>Pernod takeover talk lifts Domecq\\n \\n Shares ...</td>\n",
       "      <td>Pernod has reduced the debt it took on to fund...</td>\n",
       "    </tr>\n",
       "    <tr>\n",
       "      <th>...</th>\n",
       "      <td>...</td>\n",
       "      <td>...</td>\n",
       "    </tr>\n",
       "    <tr>\n",
       "      <th>98396</th>\n",
       "      <td>A CRPF jawan was on Tuesday axed to death with...</td>\n",
       "      <td>CRPF jawan axed to death by Maoists in Chhatti...</td>\n",
       "    </tr>\n",
       "    <tr>\n",
       "      <th>98397</th>\n",
       "      <td>'Uff Yeh', the first song from the Sonakshi Si...</td>\n",
       "      <td>First song from Sonakshi Sinha's 'Noor' titled...</td>\n",
       "    </tr>\n",
       "    <tr>\n",
       "      <th>98398</th>\n",
       "      <td>According to reports, a new version of the 199...</td>\n",
       "      <td>'The Matrix' film to get a reboot: Reports</td>\n",
       "    </tr>\n",
       "    <tr>\n",
       "      <th>98399</th>\n",
       "      <td>A new music video shows rapper Snoop Dogg aimi...</td>\n",
       "      <td>Snoop Dogg aims gun at clown dressed as Trump ...</td>\n",
       "    </tr>\n",
       "    <tr>\n",
       "      <th>98400</th>\n",
       "      <td>Madhesi Morcha, an alliance of seven political...</td>\n",
       "      <td>Madhesi Morcha withdraws support to Nepalese g...</td>\n",
       "    </tr>\n",
       "  </tbody>\n",
       "</table>\n",
       "<p>105140 rows × 2 columns</p>\n",
       "</div>"
      ],
      "text/plain": [
       "                                                    Text  \\\n",
       "0      Ad sales boost Time Warner profit\\n \\n Quarter...   \n",
       "1      Dollar gains on Greenspan speech\\n \\n The doll...   \n",
       "2      Yukos unit buyer faces loan claim\\n \\n The own...   \n",
       "3      High fuel prices hit BA's profits\\n \\n British...   \n",
       "4      Pernod takeover talk lifts Domecq\\n \\n Shares ...   \n",
       "...                                                  ...   \n",
       "98396  A CRPF jawan was on Tuesday axed to death with...   \n",
       "98397  'Uff Yeh', the first song from the Sonakshi Si...   \n",
       "98398  According to reports, a new version of the 199...   \n",
       "98399  A new music video shows rapper Snoop Dogg aimi...   \n",
       "98400  Madhesi Morcha, an alliance of seven political...   \n",
       "\n",
       "                                                 Summary  \n",
       "0      TimeWarner said fourth quarter sales rose 2% t...  \n",
       "1      The dollar has hit its highest level against t...  \n",
       "2      Yukos' owner Menatep Group says it will ask Ro...  \n",
       "3      Rod Eddington, BA's chief executive, said the ...  \n",
       "4      Pernod has reduced the debt it took on to fund...  \n",
       "...                                                  ...  \n",
       "98396  CRPF jawan axed to death by Maoists in Chhatti...  \n",
       "98397  First song from Sonakshi Sinha's 'Noor' titled...  \n",
       "98398         'The Matrix' film to get a reboot: Reports  \n",
       "98399  Snoop Dogg aims gun at clown dressed as Trump ...  \n",
       "98400  Madhesi Morcha withdraws support to Nepalese g...  \n",
       "\n",
       "[105140 rows x 2 columns]"
      ]
     },
     "execution_count": 17,
     "metadata": {},
     "output_type": "execute_result"
    }
   ],
   "source": [
    "#Final_df"
   ]
  },
  {
   "cell_type": "code",
   "execution_count": 18,
   "metadata": {
    "ExecuteTime": {
     "end_time": "2020-11-06T07:44:17.543578Z",
     "start_time": "2020-11-06T07:44:13.025580Z"
    }
   },
   "outputs": [],
   "source": [
    "#Final_df.to_csv(r\"C:\\Users\\Akhil Sanker\\Desktop\\seminar__\\Implementation\\Data_training\\Final_data\\working1.csv\")"
   ]
  }
 ],
 "metadata": {
  "kernelspec": {
   "display_name": "Python 3",
   "language": "python",
   "name": "python3"
  },
  "language_info": {
   "codemirror_mode": {
    "name": "ipython",
    "version": 3
   },
   "file_extension": ".py",
   "mimetype": "text/x-python",
   "name": "python",
   "nbconvert_exporter": "python",
   "pygments_lexer": "ipython3",
   "version": "3.7.8"
  }
 },
 "nbformat": 4,
 "nbformat_minor": 4
}
