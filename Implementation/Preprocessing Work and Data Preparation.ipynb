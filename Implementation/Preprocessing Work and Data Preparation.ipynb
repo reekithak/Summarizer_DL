{
 "cells": [
  {
   "cell_type": "markdown",
   "metadata": {
    "ExecuteTime": {
     "end_time": "2020-11-06T08:03:48.493010Z",
     "start_time": "2020-11-06T08:03:47.446010Z"
    }
   },
   "source": [
    "**WORK_WORD_PROCESSING**"
   ]
  },
  {
   "cell_type": "code",
   "execution_count": 1,
   "metadata": {
    "ExecuteTime": {
     "end_time": "2020-11-06T08:14:48.529115Z",
     "start_time": "2020-11-06T08:14:47.516117Z"
    }
   },
   "outputs": [],
   "source": [
    "import pandas as pd\n",
    "import numpy as np"
   ]
  },
  {
   "cell_type": "code",
   "execution_count": 2,
   "metadata": {
    "ExecuteTime": {
     "end_time": "2020-11-06T08:14:51.556473Z",
     "start_time": "2020-11-06T08:14:48.532117Z"
    }
   },
   "outputs": [],
   "source": [
    "df = pd.read_csv(\"D:\\working repos\\seminar__\\Implementation\\Data_training\\Final_data\\working1.csv\")"
   ]
  },
  {
   "cell_type": "code",
   "execution_count": 3,
   "metadata": {
    "ExecuteTime": {
     "end_time": "2020-11-06T08:14:51.603475Z",
     "start_time": "2020-11-06T08:14:51.560476Z"
    }
   },
   "outputs": [],
   "source": [
    "try:\n",
    "    df.drop(['Unnamed: 0'],axis=1,inplace=True)\n",
    "except:\n",
    "    pass"
   ]
  },
  {
   "cell_type": "code",
   "execution_count": 4,
   "metadata": {
    "ExecuteTime": {
     "end_time": "2020-11-06T08:14:51.651473Z",
     "start_time": "2020-11-06T08:14:51.607475Z"
    }
   },
   "outputs": [
    {
     "data": {
      "text/html": [
       "<div>\n",
       "<style scoped>\n",
       "    .dataframe tbody tr th:only-of-type {\n",
       "        vertical-align: middle;\n",
       "    }\n",
       "\n",
       "    .dataframe tbody tr th {\n",
       "        vertical-align: top;\n",
       "    }\n",
       "\n",
       "    .dataframe thead th {\n",
       "        text-align: right;\n",
       "    }\n",
       "</style>\n",
       "<table border=\"1\" class=\"dataframe\">\n",
       "  <thead>\n",
       "    <tr style=\"text-align: right;\">\n",
       "      <th></th>\n",
       "      <th>Text</th>\n",
       "      <th>Summary</th>\n",
       "    </tr>\n",
       "  </thead>\n",
       "  <tbody>\n",
       "    <tr>\n",
       "      <th>0</th>\n",
       "      <td>Ad sales boost Time Warner profit\\n \\n Quarter...</td>\n",
       "      <td>TimeWarner said fourth quarter sales rose 2% t...</td>\n",
       "    </tr>\n",
       "    <tr>\n",
       "      <th>1</th>\n",
       "      <td>Dollar gains on Greenspan speech\\n \\n The doll...</td>\n",
       "      <td>The dollar has hit its highest level against t...</td>\n",
       "    </tr>\n",
       "    <tr>\n",
       "      <th>2</th>\n",
       "      <td>Yukos unit buyer faces loan claim\\n \\n The own...</td>\n",
       "      <td>Yukos' owner Menatep Group says it will ask Ro...</td>\n",
       "    </tr>\n",
       "    <tr>\n",
       "      <th>3</th>\n",
       "      <td>High fuel prices hit BA's profits\\n \\n British...</td>\n",
       "      <td>Rod Eddington, BA's chief executive, said the ...</td>\n",
       "    </tr>\n",
       "    <tr>\n",
       "      <th>4</th>\n",
       "      <td>Pernod takeover talk lifts Domecq\\n \\n Shares ...</td>\n",
       "      <td>Pernod has reduced the debt it took on to fund...</td>\n",
       "    </tr>\n",
       "    <tr>\n",
       "      <th>...</th>\n",
       "      <td>...</td>\n",
       "      <td>...</td>\n",
       "    </tr>\n",
       "    <tr>\n",
       "      <th>105135</th>\n",
       "      <td>A CRPF jawan was on Tuesday axed to death with...</td>\n",
       "      <td>CRPF jawan axed to death by Maoists in Chhatti...</td>\n",
       "    </tr>\n",
       "    <tr>\n",
       "      <th>105136</th>\n",
       "      <td>'Uff Yeh', the first song from the Sonakshi Si...</td>\n",
       "      <td>First song from Sonakshi Sinha's 'Noor' titled...</td>\n",
       "    </tr>\n",
       "    <tr>\n",
       "      <th>105137</th>\n",
       "      <td>According to reports, a new version of the 199...</td>\n",
       "      <td>'The Matrix' film to get a reboot: Reports</td>\n",
       "    </tr>\n",
       "    <tr>\n",
       "      <th>105138</th>\n",
       "      <td>A new music video shows rapper Snoop Dogg aimi...</td>\n",
       "      <td>Snoop Dogg aims gun at clown dressed as Trump ...</td>\n",
       "    </tr>\n",
       "    <tr>\n",
       "      <th>105139</th>\n",
       "      <td>Madhesi Morcha, an alliance of seven political...</td>\n",
       "      <td>Madhesi Morcha withdraws support to Nepalese g...</td>\n",
       "    </tr>\n",
       "  </tbody>\n",
       "</table>\n",
       "<p>105140 rows × 2 columns</p>\n",
       "</div>"
      ],
      "text/plain": [
       "                                                     Text  \\\n",
       "0       Ad sales boost Time Warner profit\\n \\n Quarter...   \n",
       "1       Dollar gains on Greenspan speech\\n \\n The doll...   \n",
       "2       Yukos unit buyer faces loan claim\\n \\n The own...   \n",
       "3       High fuel prices hit BA's profits\\n \\n British...   \n",
       "4       Pernod takeover talk lifts Domecq\\n \\n Shares ...   \n",
       "...                                                   ...   \n",
       "105135  A CRPF jawan was on Tuesday axed to death with...   \n",
       "105136  'Uff Yeh', the first song from the Sonakshi Si...   \n",
       "105137  According to reports, a new version of the 199...   \n",
       "105138  A new music video shows rapper Snoop Dogg aimi...   \n",
       "105139  Madhesi Morcha, an alliance of seven political...   \n",
       "\n",
       "                                                  Summary  \n",
       "0       TimeWarner said fourth quarter sales rose 2% t...  \n",
       "1       The dollar has hit its highest level against t...  \n",
       "2       Yukos' owner Menatep Group says it will ask Ro...  \n",
       "3       Rod Eddington, BA's chief executive, said the ...  \n",
       "4       Pernod has reduced the debt it took on to fund...  \n",
       "...                                                   ...  \n",
       "105135  CRPF jawan axed to death by Maoists in Chhatti...  \n",
       "105136  First song from Sonakshi Sinha's 'Noor' titled...  \n",
       "105137         'The Matrix' film to get a reboot: Reports  \n",
       "105138  Snoop Dogg aims gun at clown dressed as Trump ...  \n",
       "105139  Madhesi Morcha withdraws support to Nepalese g...  \n",
       "\n",
       "[105140 rows x 2 columns]"
      ]
     },
     "execution_count": 4,
     "metadata": {},
     "output_type": "execute_result"
    }
   ],
   "source": [
    "df"
   ]
  },
  {
   "cell_type": "markdown",
   "metadata": {},
   "source": [
    " "
   ]
  },
  {
   "cell_type": "markdown",
   "metadata": {},
   "source": [
    " "
   ]
  },
  {
   "cell_type": "markdown",
   "metadata": {},
   "source": [
    "**Preprocessing and Cleaning**"
   ]
  },
  {
   "cell_type": "code",
   "execution_count": 5,
   "metadata": {
    "ExecuteTime": {
     "end_time": "2020-11-06T08:14:51.667476Z",
     "start_time": "2020-11-06T08:14:51.654474Z"
    }
   },
   "outputs": [],
   "source": [
    "import warnings\n",
    "warnings.filterwarnings(\"ignore\")"
   ]
  },
  {
   "cell_type": "code",
   "execution_count": 64,
   "metadata": {
    "ExecuteTime": {
     "end_time": "2020-11-06T09:05:11.712123Z",
     "start_time": "2020-11-06T09:05:11.677121Z"
    }
   },
   "outputs": [
    {
     "name": "stderr",
     "output_type": "stream",
     "text": [
      "[nltk_data] Downloading package stopwords to C:\\Users\\Akhil\n",
      "[nltk_data]     Sanker\\AppData\\Roaming\\nltk_data...\n",
      "[nltk_data]   Package stopwords is already up-to-date!\n",
      "[nltk_data] Downloading package punkt to C:\\Users\\Akhil\n",
      "[nltk_data]     Sanker\\AppData\\Roaming\\nltk_data...\n",
      "[nltk_data]   Package punkt is already up-to-date!\n",
      "[nltk_data] Downloading package wordnet to C:\\Users\\Akhil\n",
      "[nltk_data]     Sanker\\AppData\\Roaming\\nltk_data...\n",
      "[nltk_data]   Package wordnet is already up-to-date!\n"
     ]
    }
   ],
   "source": [
    "#stopwords\n",
    "import nltk.corpus\n",
    "nltk.download('stopwords')\n",
    "from nltk.corpus import stopwords\n",
    "stop = stopwords.words('english')\n",
    "\n",
    "#stemming\n",
    "from nltk.stem import PorterStemmer \n",
    "from nltk.tokenize import word_tokenize\n",
    "import nltk \n",
    "nltk.download('punkt')\n",
    "from nltk.tokenize import sent_tokenize, word_tokenize\n",
    "\n",
    "#lemmatizing\n",
    "nltk.download('wordnet')\n",
    "from nltk.stem import WordNetLemmatizer\n",
    "\n",
    "def word_lemmatizer(text):\n",
    "    lem_text = WordNetLemmatizer().lemmatize(text)\n",
    "    return lem_text\n",
    "\n",
    "def remove_url(text):\n",
    "    import re\n",
    "    rm_txt = re.sub(r'^https?:\\/\\/.*[\\r\\n]*', '', text, flags=re.MULTILINE)\n",
    "    rm_txt = rm_txt.replace(\"\\n\",\" \")\n",
    "    rm_txt = rm_txt.replace('\\'s',\" \")\n",
    "    return rm_txt\n",
    "\n",
    "\n",
    "def remove_html_tags(text):\n",
    "    import re\n",
    "    clean = re.compile('<.*?>')\n",
    "    return re.sub(clean, '', text)\n",
    "\n",
    "def deEmojify(text):\n",
    "    import re\n",
    "    regrex_pattern = re.compile(pattern = \"[\"\n",
    "        u\"\\U0001F600-\\U0001F64F\"  # emoticons\n",
    "        u\"\\U0001F300-\\U0001F5FF\"  # symbols & pictographs\n",
    "        u\"\\U0001F680-\\U0001F6FF\"  # transport & map symbols\n",
    "        u\"\\U0001F1E0-\\U0001F1FF\"  # flags (iOS)\n",
    "                           \"]+\", flags = re.UNICODE)\n",
    "    return regrex_pattern.sub(r'',text)"
   ]
  },
  {
   "cell_type": "code",
   "execution_count": 65,
   "metadata": {
    "ExecuteTime": {
     "end_time": "2020-11-06T09:05:13.143711Z",
     "start_time": "2020-11-06T09:05:12.195676Z"
    }
   },
   "outputs": [],
   "source": [
    "new_lis = []\n",
    "for sent in df['Text'].tolist():\n",
    "    new_lis.append(word_lemmatizer(str(sent)))\n"
   ]
  },
  {
   "cell_type": "code",
   "execution_count": 66,
   "metadata": {
    "ExecuteTime": {
     "end_time": "2020-11-06T09:05:17.881672Z",
     "start_time": "2020-11-06T09:05:13.146681Z"
    }
   },
   "outputs": [],
   "source": [
    "new_lis = [remove_url(text) for text in new_lis]\n",
    "new_lis = [remove_html_tags(text) for text in new_lis]\n",
    "new_lis = [deEmojify(text) for text in new_lis]\n",
    "new_lis = [text.lower() for text in new_lis]"
   ]
  },
  {
   "cell_type": "code",
   "execution_count": 67,
   "metadata": {
    "ExecuteTime": {
     "end_time": "2020-11-06T09:05:20.853673Z",
     "start_time": "2020-11-06T09:05:17.885673Z"
    }
   },
   "outputs": [],
   "source": [
    "new_lis1 = []\n",
    "for sent in df['Summary'].tolist():\n",
    "    new_lis1.append(word_lemmatizer(str(sent)))\n",
    "new_lis1 = [remove_url(text) for text in new_lis1]\n",
    "new_lis1 = [remove_html_tags(text) for text in new_lis1]\n",
    "new_lis1 = [deEmojify(text) for text in new_lis1]\n",
    "new_lis1 = [text.lower() for text in new_lis1]"
   ]
  },
  {
   "cell_type": "code",
   "execution_count": 68,
   "metadata": {
    "ExecuteTime": {
     "end_time": "2020-11-06T09:05:20.947707Z",
     "start_time": "2020-11-06T09:05:20.855674Z"
    }
   },
   "outputs": [],
   "source": [
    "data = pd.DataFrame()\n",
    "data['Text'] = new_lis\n",
    "data['Summary'] = new_lis1"
   ]
  },
  {
   "cell_type": "code",
   "execution_count": 69,
   "metadata": {
    "ExecuteTime": {
     "end_time": "2020-11-06T09:05:20.963673Z",
     "start_time": "2020-11-06T09:05:20.950713Z"
    }
   },
   "outputs": [
    {
     "data": {
      "text/plain": [
       "'the dollar has hit its highest level against the euro in almost three months after the federal reserve head said the us trade deficit is set to stabilise.china  currency remains pegged to the dollar and the us currency  sharp falls in recent months have therefore made chinese export prices highly competitive.market concerns about the deficit has hit the greenback in recent months.\"i think the chairman  taking a much more sanguine view on the current account deficit than he  taken for some time,\" said robert sinche, head of currency strategy at bank of america in new york.the recent falls have partly been the result of big budget deficits, as well as the us  yawning current account gap, both of which need to be funded by the buying of us bonds and assets by foreign firms and governments.\"he  taking a longer-term view, laying out a set of conditions under which the current account deficit can improve this year and next.\"'"
      ]
     },
     "execution_count": 69,
     "metadata": {},
     "output_type": "execute_result"
    }
   ],
   "source": [
    "data['Summary'][1]"
   ]
  },
  {
   "cell_type": "code",
   "execution_count": 70,
   "metadata": {
    "ExecuteTime": {
     "end_time": "2020-11-06T09:05:58.470176Z",
     "start_time": "2020-11-06T09:05:54.134665Z"
    }
   },
   "outputs": [],
   "source": [
    "#data.to_csv(\"D:\\working repos\\seminar__\\Implementation\\Data_training\\Final_data\\clean_data.csv\")"
   ]
  }
 ],
 "metadata": {
  "kernelspec": {
   "display_name": "Python 3",
   "language": "python",
   "name": "python3"
  },
  "language_info": {
   "codemirror_mode": {
    "name": "ipython",
    "version": 3
   },
   "file_extension": ".py",
   "mimetype": "text/x-python",
   "name": "python",
   "nbconvert_exporter": "python",
   "pygments_lexer": "ipython3",
   "version": "3.7.8"
  }
 },
 "nbformat": 4,
 "nbformat_minor": 4
}
